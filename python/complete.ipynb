{
 "cells": [
  {
   "cell_type": "code",
   "execution_count": 1,
   "metadata": {},
   "outputs": [
    {
     "name": "stdout",
     "output_type": "stream",
     "text": [
      "confirmed {200: 211}\n",
      "deaths {200: 211}\n",
      "recovered {200: 211}\n",
      "sick {200: 211}\n"
     ]
    }
   ],
   "source": [
    "import math\n",
    "from datetime import datetime\n",
    "\n",
    "import numpy as np\n",
    "import pandas as pd\n",
    "import requests\n",
    "\n",
    "\n",
    "def convert_to_statistics(df):\n",
    "    # calculate change percentage\n",
    "    df_change = df.transpose().pct_change()\n",
    "    df_change = df_change.replace(np.inf, 1)\n",
    "\n",
    "    data = []\n",
    "    for country in df.index:\n",
    "        stat = { 'country': country, 'values': {} }\n",
    "        for date in list(df.columns.values):\n",
    "            formatted_date = datetime.strptime(date, '%m/%d/%y').strftime('%Y-%m-%d')\n",
    "            value = df[date][country]\n",
    "            value_changed = df_change[country][date]\n",
    "\n",
    "            stat['values'][formatted_date] = {\n",
    "                'value': int(value),\n",
    "                'pctChange': float(value_changed) if not math.isnan(value_changed) else None\n",
    "            }\n",
    "        data.append(stat)\n",
    "    return data\n",
    "\n",
    "\n",
    "def load_sick(confirmed, deaths, recovered):\n",
    "    return confirmed - deaths - recovered\n",
    "\n",
    "\n",
    "def load_file(file):\n",
    "    df = pd.read_csv(f'{source_url}/{file}')\n",
    "    return df.set_index('country')\n",
    "\n",
    "\n",
    "def send_data(data, target):\n",
    "    url = f'{target_server}{target}/python'\n",
    "    responses = [requests.post(url, json=json).status_code for json in data]\n",
    "    print(target, {i: responses.count(i) for i in responses})\n",
    "\n",
    "\n",
    "if __name__ == '__main__':\n",
    "    source_url = 'https://raw.githubusercontent.com/jjbeto/talkPy4JavaDevResources/master/johns_hopkins'\n",
    "    confirmed_file = 'time_series_covid19_confirmed_global.csv'\n",
    "    deaths_file = 'time_series_covid19_deaths_global.csv'\n",
    "    recovered_file = 'time_series_covid19_recovered_global.csv'\n",
    "\n",
    "    target_server = 'http://localhost:8080/api/'\n",
    "\n",
    "    confirmed = load_file(confirmed_file)\n",
    "    deaths = load_file(deaths_file)\n",
    "    recovered = load_file(recovered_file)\n",
    "    sick = load_sick(confirmed, deaths, recovered)\n",
    "\n",
    "    confirmed_json = convert_to_statistics(confirmed)\n",
    "    deaths_json = convert_to_statistics(deaths)\n",
    "    recovered_json = convert_to_statistics(recovered)\n",
    "    sick_json = convert_to_statistics(sick)\n",
    "\n",
    "    send_data(confirmed_json, 'confirmed')\n",
    "    send_data(deaths_json, 'deaths')\n",
    "    send_data(recovered_json, 'recovered')\n",
    "    send_data(sick_json, 'sick')\n"
   ]
  }
 ],
 "metadata": {
  "kernelspec": {
   "display_name": "Python 3",
   "language": "python",
   "name": "python3"
  },
  "language_info": {
   "codemirror_mode": {
    "name": "ipython",
    "version": 3
   },
   "file_extension": ".py",
   "mimetype": "text/x-python",
   "name": "python",
   "nbconvert_exporter": "python",
   "pygments_lexer": "ipython3",
   "version": "3.7.8"
  }
 },
 "nbformat": 4,
 "nbformat_minor": 1
}