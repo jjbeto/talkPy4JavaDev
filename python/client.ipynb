{
 "cells": [
  {
   "cell_type": "code",
   "execution_count": 1,
   "metadata": {},
   "outputs": [],
   "source": [
    "source_url = 'https://raw.githubusercontent.com/jjbeto/talkPy4JavaDevResources/master/johns_hopkins'\n",
    "confirmed_file = 'time_series_covid19_confirmed_global.csv'\n",
    "deaths_file = 'time_series_covid19_deaths_global.csv'\n",
    "recovered_file = 'time_series_covid19_recovered_global.csv'\n",
    "target_server = 'http://localhost:8080/api/'\n"
   ]
  },
  {
   "cell_type": "code",
   "execution_count": null,
   "outputs": [],
   "source": [],
   "metadata": {
    "collapsed": false,
    "pycharm": {
     "name": "#%%\n"
    }
   }
  },
  {
   "cell_type": "code",
   "execution_count": null,
   "metadata": {},
   "outputs": [],
   "source": []
  }
 ],
 "metadata": {
  "kernelspec": {
   "display_name": "Python 3",
   "language": "python",
   "name": "python3"
  },
  "language_info": {
   "codemirror_mode": {
    "name": "ipython",
    "version": 3
   },
   "file_extension": ".py",
   "mimetype": "text/x-python",
   "name": "python",
   "nbconvert_exporter": "python",
   "pygments_lexer": "ipython3",
   "version": "3.7.8"
  }
 },
 "nbformat": 4,
 "nbformat_minor": 1
}